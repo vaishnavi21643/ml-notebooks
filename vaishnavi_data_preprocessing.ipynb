{
  "nbformat": 4,
  "nbformat_minor": 0,
  "metadata": {
    "colab": {
      "provenance": []
    },
    "kernelspec": {
      "name": "python3",
      "display_name": "Python 3"
    }
  },
  "cells": [
    {
      "cell_type": "markdown",
      "metadata": {
        "id": "37puETfgRzzg"
      },
      "source": [
        "# Data Preprocessing | IBM SkillsBuild Internship"
      ]
    },
    {
      "cell_type": "markdown",
      "metadata": {
        "id": "EoRP98MpR-qj"
      },
      "source": [
        "## Import the required libraries"
      ]
    },
    {
      "cell_type": "code",
      "source": [
        "import numpy as np\n",
        "import pandas as pd\n",
        "import matplotlib.pyplot as plt"
      ],
      "metadata": {
        "id": "Ge01mcHUPnCP"
      },
      "execution_count": 1,
      "outputs": []
    },
    {
      "cell_type": "markdown",
      "metadata": {
        "id": "RopL7tUZSQkT"
      },
      "source": [
        "## Import the dataset"
      ]
    },
    {
      "cell_type": "code",
      "source": [
        "dataset = pd.read_csv('Data.csv')\n",
        "x = dataset.iloc[:, :-1].values\n",
        "y = dataset.iloc[:, -1].values"
      ],
      "metadata": {
        "id": "wEyKPzjMQr_T"
      },
      "execution_count": 4,
      "outputs": []
    },
    {
      "cell_type": "code",
      "source": [
        "print(x)"
      ],
      "metadata": {
        "colab": {
          "base_uri": "https://localhost:8080/"
        },
        "id": "pe8UKzOHR56o",
        "outputId": "a49963de-72fa-49ba-a647-feeb9c82e0ad"
      },
      "execution_count": 5,
      "outputs": [
        {
          "output_type": "stream",
          "name": "stdout",
          "text": [
            "[['India' 44.0 72000.0]\n",
            " ['Thailand ' 27.0 48000.0]\n",
            " ['Indonesia' 30.0 54000.0]\n",
            " ['China' 38.0 61000.0]\n",
            " ['India' 40.0 nan]\n",
            " ['China' 35.0 58000.0]\n",
            " ['Thailand ' nan 52000.0]\n",
            " ['India' 48.0 79000.0]\n",
            " ['Indonesia' 50.0 83000.0]\n",
            " ['Thailand ' 37.0 67000.0]\n",
            " ['India' 25.0 nan]\n",
            " ['Thailand ' 36.0 60000.0]\n",
            " ['Indonesia' 42.0 64000.0]\n",
            " ['India' nan 40000.0]\n",
            " ['Thailand ' 52.0 90000.0]\n",
            " ['Indonesia' nan 55000.0]\n",
            " ['China' 41.0 nan]\n",
            " ['India' 29.0 48000.0]\n",
            " ['China' 43.0 70000.0]]\n"
          ]
        }
      ]
    },
    {
      "cell_type": "code",
      "source": [
        "print(y)"
      ],
      "metadata": {
        "colab": {
          "base_uri": "https://localhost:8080/"
        },
        "id": "6QSCNTPmSCJw",
        "outputId": "4f87f8a8-24d8-4863-f025-9d7d84a2701f"
      },
      "execution_count": 6,
      "outputs": [
        {
          "output_type": "stream",
          "name": "stdout",
          "text": [
            "['No' 'Yes' 'No' 'No' 'Yes' 'Yes' 'No' 'Yes' 'No' 'Yes' 'No' 'No' 'Yes'\n",
            " 'Yes' 'Yes' 'No' 'Yes' 'No' 'Yes']\n"
          ]
        }
      ]
    },
    {
      "cell_type": "markdown",
      "metadata": {
        "id": "nhfKXNxlSabC"
      },
      "source": [
        "## Solving for missing data"
      ]
    },
    {
      "cell_type": "markdown",
      "metadata": {
        "id": "CriG6VzVSjcK"
      },
      "source": [
        "## Encoding categorical data"
      ]
    },
    {
      "cell_type": "code",
      "source": [
        "from sklearn.impute import SimpleImputer\n",
        "imputer = SimpleImputer(missing_values = np.nan, strategy = 'mean')\n",
        "imputer.fit(x[:, 1:3])\n",
        "x[:, 1:3] = imputer.transform(x[:, 1:3])"
      ],
      "metadata": {
        "id": "kL00TALXR3s4"
      },
      "execution_count": 7,
      "outputs": []
    },
    {
      "cell_type": "code",
      "source": [
        "print(x)"
      ],
      "metadata": {
        "colab": {
          "base_uri": "https://localhost:8080/"
        },
        "id": "LHCbObzKTrrF",
        "outputId": "4f45f62d-802a-4bb6-8634-6674bf900069"
      },
      "execution_count": 8,
      "outputs": [
        {
          "output_type": "stream",
          "name": "stdout",
          "text": [
            "[['India' 44.0 72000.0]\n",
            " ['Thailand ' 27.0 48000.0]\n",
            " ['Indonesia' 30.0 54000.0]\n",
            " ['China' 38.0 61000.0]\n",
            " ['India' 40.0 62562.5]\n",
            " ['China' 35.0 58000.0]\n",
            " ['Thailand ' 38.5625 52000.0]\n",
            " ['India' 48.0 79000.0]\n",
            " ['Indonesia' 50.0 83000.0]\n",
            " ['Thailand ' 37.0 67000.0]\n",
            " ['India' 25.0 62562.5]\n",
            " ['Thailand ' 36.0 60000.0]\n",
            " ['Indonesia' 42.0 64000.0]\n",
            " ['India' 38.5625 40000.0]\n",
            " ['Thailand ' 52.0 90000.0]\n",
            " ['Indonesia' 38.5625 55000.0]\n",
            " ['China' 41.0 62562.5]\n",
            " ['India' 29.0 48000.0]\n",
            " ['China' 43.0 70000.0]]\n"
          ]
        }
      ]
    },
    {
      "cell_type": "code",
      "source": [
        "from sklearn.compose import ColumnTransformer\n",
        "from sklearn.preprocessing import OneHotEncoder\n",
        "ct = ColumnTransformer(transformers = [('encoder', OneHotEncoder(), [0])], remainder='passthrough')\n",
        "x = np.array(ct.fit_transform(x))"
      ],
      "metadata": {
        "id": "2xnTwsVhVae6"
      },
      "execution_count": 9,
      "outputs": []
    },
    {
      "cell_type": "code",
      "source": [
        "print(x)"
      ],
      "metadata": {
        "colab": {
          "base_uri": "https://localhost:8080/"
        },
        "id": "EmDQ3mteXMGw",
        "outputId": "9f63203b-d89a-4726-dc59-c0c31ad09820"
      },
      "execution_count": 10,
      "outputs": [
        {
          "output_type": "stream",
          "name": "stdout",
          "text": [
            "[[0.0 1.0 0.0 0.0 44.0 72000.0]\n",
            " [0.0 0.0 0.0 1.0 27.0 48000.0]\n",
            " [0.0 0.0 1.0 0.0 30.0 54000.0]\n",
            " [1.0 0.0 0.0 0.0 38.0 61000.0]\n",
            " [0.0 1.0 0.0 0.0 40.0 62562.5]\n",
            " [1.0 0.0 0.0 0.0 35.0 58000.0]\n",
            " [0.0 0.0 0.0 1.0 38.5625 52000.0]\n",
            " [0.0 1.0 0.0 0.0 48.0 79000.0]\n",
            " [0.0 0.0 1.0 0.0 50.0 83000.0]\n",
            " [0.0 0.0 0.0 1.0 37.0 67000.0]\n",
            " [0.0 1.0 0.0 0.0 25.0 62562.5]\n",
            " [0.0 0.0 0.0 1.0 36.0 60000.0]\n",
            " [0.0 0.0 1.0 0.0 42.0 64000.0]\n",
            " [0.0 1.0 0.0 0.0 38.5625 40000.0]\n",
            " [0.0 0.0 0.0 1.0 52.0 90000.0]\n",
            " [0.0 0.0 1.0 0.0 38.5625 55000.0]\n",
            " [1.0 0.0 0.0 0.0 41.0 62562.5]\n",
            " [0.0 1.0 0.0 0.0 29.0 48000.0]\n",
            " [1.0 0.0 0.0 0.0 43.0 70000.0]]\n"
          ]
        }
      ]
    },
    {
      "cell_type": "markdown",
      "metadata": {
        "id": "AhSpdQWeSsFh"
      },
      "source": [
        "### Encoding the Independent Variable"
      ]
    },
    {
      "cell_type": "markdown",
      "metadata": {
        "id": "DXh8oVSITIc6"
      },
      "source": [
        "### Encoding the Dependent Variable"
      ]
    },
    {
      "cell_type": "code",
      "source": [
        "from sklearn.preprocessing import LabelEncoder\n",
        "le= LabelEncoder()\n",
        "y = le.fit_transform(y)\n"
      ],
      "metadata": {
        "id": "k0tCgDbNXqAi"
      },
      "execution_count": 12,
      "outputs": []
    },
    {
      "cell_type": "code",
      "source": [
        "print(y)"
      ],
      "metadata": {
        "colab": {
          "base_uri": "https://localhost:8080/"
        },
        "id": "dC7Epz9aYF-h",
        "outputId": "40b4ed75-6f09-4c4f-e597-2557954d991f"
      },
      "execution_count": 13,
      "outputs": [
        {
          "output_type": "stream",
          "name": "stdout",
          "text": [
            "[0 1 0 0 1 1 0 1 0 1 0 0 1 1 1 0 1 0 1]\n"
          ]
        }
      ]
    },
    {
      "cell_type": "markdown",
      "metadata": {
        "id": "qb_vcgm3qZKW"
      },
      "source": [
        "## Splitting the dataset into the Training set and Test set"
      ]
    },
    {
      "cell_type": "code",
      "source": [
        "from sklearn.model_selection import train_test_split\n",
        "x_train, x_test, y_train, y_test  = train_test_split(x,y, test_size = 0.2, random_state = 0)"
      ],
      "metadata": {
        "id": "w7PPAam6Y2hk"
      },
      "execution_count": 14,
      "outputs": []
    },
    {
      "cell_type": "markdown",
      "metadata": {
        "id": "TpGqbS4TqkIR"
      },
      "source": [
        "## Feature Scaling"
      ]
    },
    {
      "cell_type": "code",
      "source": [
        "from sklearn.preprocessing import StandardScaler\n",
        "sc = StandardScaler()\n",
        "x_train = sc.fit_transform(x_train)\n",
        "x_test = sc.transform(x_test)"
      ],
      "metadata": {
        "id": "6GMBeWpnad2k"
      },
      "execution_count": 16,
      "outputs": []
    },
    {
      "cell_type": "code",
      "source": [
        "print(x_train)\n",
        "print(x_test)"
      ],
      "metadata": {
        "colab": {
          "base_uri": "https://localhost:8080/"
        },
        "id": "CN_spWX6bDae",
        "outputId": "de322b24-614b-4cf1-eba1-118b2b901d6a"
      },
      "execution_count": 18,
      "outputs": [
        {
          "output_type": "stream",
          "name": "stdout",
          "text": [
            "[[-0.5        -0.70710678 -0.5         1.6583124   2.22042763  2.385368  ]\n",
            " [ 2.         -0.70710678 -0.5        -0.60302269  0.31534835  0.07474013]\n",
            " [-0.5        -0.70710678 -0.5         1.6583124  -0.1067999  -0.81477265]\n",
            " [-0.5         1.41421356 -0.5        -0.60302269  0.14215933  0.07474013]\n",
            " [-0.5        -0.70710678  2.         -0.60302269 -1.58973093 -0.6463442 ]\n",
            " [ 2.         -0.70710678 -0.5        -0.60302269 -0.7237858  -0.30948729]\n",
            " [-0.5         1.41421356 -0.5        -0.60302269 -0.1067999  -1.82534339]\n",
            " [-0.5        -0.70710678 -0.5         1.6583124  -0.37740775  0.44844076]\n",
            " [-0.5         1.41421356 -0.5        -0.60302269  1.52767153  1.4590115 ]\n",
            " [-0.5         1.41421356 -0.5        -0.60302269 -1.76291995 -1.15162956]\n",
            " [-0.5        -0.70710678 -0.5         1.6583124  -0.55059678 -0.14105883]\n",
            " [ 2.         -0.70710678 -0.5        -0.60302269 -0.20421873 -0.0568446 ]\n",
            " [-0.5         1.41421356 -0.5        -0.60302269  0.83491543  0.8695119 ]\n",
            " [-0.5        -0.70710678  2.         -0.60302269 -0.1067999  -0.56212997]\n",
            " [-0.5        -0.70710678  2.         -0.60302269  0.48853738  0.19579808]]\n",
            "[[-0.5         1.41421356 -0.5        -0.60302269 -2.45567606  0.07474013]\n",
            " [-0.5        -0.70710678 -0.5         1.6583124  -2.10929801 -1.15162956]\n",
            " [-0.5        -0.70710678  2.         -0.60302269  1.87404958  1.79586841]\n",
            " [ 2.         -0.70710678 -0.5        -0.60302269  0.6617264   0.70108345]]\n"
          ]
        }
      ]
    }
  ]
}